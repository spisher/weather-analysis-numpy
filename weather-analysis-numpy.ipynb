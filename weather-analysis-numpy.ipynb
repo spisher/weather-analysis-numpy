{
 "cells": [
  {
   "cell_type": "code",
   "execution_count": 1,
   "id": "087db22b",
   "metadata": {},
   "outputs": [],
   "source": [
    "import numpy as np"
   ]
  },
  {
   "cell_type": "code",
   "execution_count": null,
   "id": "5f0b1e5c",
   "metadata": {},
   "outputs": [],
   "source": [
    "temperatures = np.array([29.5, 30.1, 32.3, 28.9, 27.5, 33.0, 34.2, 31.8,\n",
    "    30.0, 29.9, 28.7, 27.0, 26.4, 30.5, 31.0, 32.1,\n",
    "    33.5, 35.0, 34.7, 30.9, 29.5, 28.0, 27.8, 30.2,\n",
    "    32.4, 33.3, 31.7, 30.1, 29.0, 28.5])"
   ]
  },
  {
   "cell_type": "code",
   "execution_count": null,
   "id": "b1260b5c",
   "metadata": {},
   "outputs": [
    {
     "name": "stdout",
     "output_type": "stream",
     "text": [
      "Average temperature: 30.583333333333332\n",
      "Max temperature: 35.0\n",
      "Min temperature: 26.4\n"
     ]
    }
   ],
   "source": [
    "print(\"average temperature:\", np.mean(temperatures))\n",
    "print(\"max temperature:\", np.max(temperatures))\n",
    "print(\"min temperature:\", np.min(temperatures))\n"
   ]
  },
  {
   "cell_type": "code",
   "execution_count": 6,
   "id": "aa70cdff",
   "metadata": {},
   "outputs": [
    {
     "name": "stdout",
     "output_type": "stream",
     "text": [
      "hot days:  17\n"
     ]
    }
   ],
   "source": [
    "hot_days = temperatures > 30\n",
    "print(\"hot days: \", np.sum(hot_days))"
   ]
  },
  {
   "cell_type": "code",
   "execution_count": 24,
   "id": "5386fb0b",
   "metadata": {},
   "outputs": [
    {
     "name": "stdout",
     "output_type": "stream",
     "text": [
      "Temperature Standard Deviation: 2.26628673286404\n"
     ]
    }
   ],
   "source": [
    "sd_temp = np.std(temperatures)\n",
    "print(\"Temperature Standard Deviation:\", round(std_temp,14))"
   ]
  },
  {
   "cell_type": "code",
   "execution_count": 20,
   "id": "f59bd107",
   "metadata": {},
   "outputs": [
    {
     "name": "stdout",
     "output_type": "stream",
     "text": [
      "cold days:  4\n"
     ]
    }
   ],
   "source": [
    "cold_days = temperatures < 28\n",
    "print(\"cold days: \", np.sum(cold_days))"
   ]
  },
  {
   "cell_type": "code",
   "execution_count": 25,
   "id": "5e6a88e7",
   "metadata": {},
   "outputs": [
    {
     "name": "stdout",
     "output_type": "stream",
     "text": [
      "temperature changes: [ 0.6  2.2 -3.4 -1.4  5.5  1.2 -2.4 -1.8 -0.1 -1.2 -1.7 -0.6  4.1  0.5\n",
      "  1.1  1.4  1.5 -0.3 -3.8 -1.4 -1.5 -0.2  2.4  2.2  0.9 -1.6 -1.6 -1.1\n",
      " -0.5]\n"
     ]
    }
   ],
   "source": [
    "temp_diff = np.diff(temperatures)\n",
    "print(\"temperature changes:\", temp_diff)"
   ]
  },
  {
   "cell_type": "code",
   "execution_count": null,
   "id": "571646d2",
   "metadata": {},
   "outputs": [
    {
     "name": "stdout",
     "output_type": "stream",
     "text": [
      "Max temperature jump in one day: 5.5\n"
     ]
    }
   ],
   "source": [
    "max_jump = np.max(temp_diff)\n",
    "print(\"max temperature jump in one day:\", round(max_jump, 2))"
   ]
  },
  {
   "cell_type": "code",
   "execution_count": null,
   "id": "7abe6233",
   "metadata": {},
   "outputs": [
    {
     "name": "stdout",
     "output_type": "stream",
     "text": [
      "Hottest day was day: 18\n"
     ]
    }
   ],
   "source": [
    "hottest_day = np.argmax(temperatures) \n",
    "print(\"Hottest day was day:\", hottest_day)"
   ]
  },
  {
   "cell_type": "code",
   "execution_count": null,
   "id": "4afc1fdf",
   "metadata": {},
   "outputs": [],
   "source": []
  }
 ],
 "metadata": {
  "kernelspec": {
   "display_name": "Python 3",
   "language": "python",
   "name": "python3"
  },
  "language_info": {
   "codemirror_mode": {
    "name": "ipython",
    "version": 3
   },
   "file_extension": ".py",
   "mimetype": "text/x-python",
   "name": "python",
   "nbconvert_exporter": "python",
   "pygments_lexer": "ipython3",
   "version": "3.13.5"
  }
 },
 "nbformat": 4,
 "nbformat_minor": 5
}
